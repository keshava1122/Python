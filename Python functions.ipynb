{
 "cells": [
  {
   "cell_type": "code",
   "execution_count": 8,
   "id": "0a8d0005",
   "metadata": {},
   "outputs": [
    {
     "name": "stdout",
     "output_type": "stream",
     "text": [
      "Begin\n",
      "Welcome to functions......\n",
      "Welcome to functions......\n",
      "Welcome to functions......\n",
      "End\n",
      "Welcome to functions......\n",
      "Welcome to functions......\n",
      "Welcome to functions......\n",
      "Welcome to functions......\n"
     ]
    }
   ],
   "source": [
    "#sample function\n",
    "print(\"Begin\")\n",
    "def fun(): #Function defination\n",
    "    print(\"Welcome to functions......\") #code\n",
    "#function call\n",
    "fun()\n",
    "fun()\n",
    "fun()\n",
    "print(\"End\")\n",
    "fun()\n",
    "fun()\n",
    "fun()\n",
    "fun()"
   ]
  },
  {
   "cell_type": "code",
   "execution_count": 1,
   "id": "46acd47a",
   "metadata": {},
   "outputs": [
    {
     "name": "stdout",
     "output_type": "stream",
     "text": [
      "Begin\n",
      "30\n",
      "End\n"
     ]
    }
   ],
   "source": [
    "#return statement,arguments\n",
    "#function without return and without arguments\n",
    "print(\"Begin\")\n",
    "def fun():\n",
    "    a,b=10,20\n",
    "    c=a+b\n",
    "    print(c)\n",
    "fun() #function calling\n",
    "print(\"End\")\n",
    "    "
   ]
  },
  {
   "cell_type": "code",
   "execution_count": 2,
   "id": "8ff61a4b",
   "metadata": {},
   "outputs": [
    {
     "name": "stdout",
     "output_type": "stream",
     "text": [
      "Begin\n"
     ]
    },
    {
     "ename": "NameError",
     "evalue": "name 'rohith' is not defined",
     "output_type": "error",
     "traceback": [
      "\u001b[0;31m---------------------------------------------------------------------------\u001b[0m",
      "\u001b[0;31mNameError\u001b[0m                                 Traceback (most recent call last)",
      "Input \u001b[0;32mIn [2]\u001b[0m, in \u001b[0;36m<cell line: 4>\u001b[0;34m()\u001b[0m\n\u001b[1;32m      1\u001b[0m \u001b[38;5;66;03m#return statement,arguments\u001b[39;00m\n\u001b[1;32m      2\u001b[0m \u001b[38;5;66;03m#function without return and without arguments\u001b[39;00m\n\u001b[1;32m      3\u001b[0m \u001b[38;5;28mprint\u001b[39m(\u001b[38;5;124m\"\u001b[39m\u001b[38;5;124mBegin\u001b[39m\u001b[38;5;124m\"\u001b[39m)\n\u001b[0;32m----> 4\u001b[0m \u001b[43mrohith\u001b[49m()\n\u001b[1;32m      5\u001b[0m \u001b[38;5;28;01mdef\u001b[39;00m \u001b[38;5;21mrohith\u001b[39m():\n\u001b[1;32m      6\u001b[0m     a,b\u001b[38;5;241m=\u001b[39m\u001b[38;5;241m10\u001b[39m,\u001b[38;5;241m20\u001b[39m\n",
      "\u001b[0;31mNameError\u001b[0m: name 'rohith' is not defined"
     ]
    }
   ],
   "source": [
    "#return statement,arguments\n",
    "#function without return and without arguments\n",
    "print(\"Begin\")\n",
    "rohith()\n",
    "def rohith():\n",
    "    a,b=10,20\n",
    "    c=a+b\n",
    "    print(c)\n",
    "#fun() #function calling\n",
    "print(\"End\")\n",
    "    "
   ]
  },
  {
   "cell_type": "code",
   "execution_count": 11,
   "id": "1dcc6973",
   "metadata": {},
   "outputs": [
    {
     "name": "stdout",
     "output_type": "stream",
     "text": [
      "30\n"
     ]
    }
   ],
   "source": [
    "#function with return and with arguments\n",
    "def fun1(x,y):\n",
    "    res=x+y\n",
    "    return res\n",
    "a,b=10,20\n",
    "result=fun1(a,b)\n",
    "print(result)\n",
    "\n",
    "    \n",
    "    \n",
    "    "
   ]
  },
  {
   "cell_type": "code",
   "execution_count": 12,
   "id": "d22ae8a8",
   "metadata": {},
   "outputs": [
    {
     "ename": "TypeError",
     "evalue": "fun1() missing 1 required positional argument: 'z'",
     "output_type": "error",
     "traceback": [
      "\u001b[0;31m---------------------------------------------------------------------------\u001b[0m",
      "\u001b[0;31mTypeError\u001b[0m                                 Traceback (most recent call last)",
      "Input \u001b[0;32mIn [12]\u001b[0m, in \u001b[0;36m<cell line: 6>\u001b[0;34m()\u001b[0m\n\u001b[1;32m      4\u001b[0m     \u001b[38;5;28;01mreturn\u001b[39;00m res\n\u001b[1;32m      5\u001b[0m a,b\u001b[38;5;241m=\u001b[39m\u001b[38;5;241m10\u001b[39m,\u001b[38;5;241m20\u001b[39m\n\u001b[0;32m----> 6\u001b[0m result\u001b[38;5;241m=\u001b[39m\u001b[43mfun1\u001b[49m\u001b[43m(\u001b[49m\u001b[43ma\u001b[49m\u001b[43m,\u001b[49m\u001b[43mb\u001b[49m\u001b[43m)\u001b[49m\n\u001b[1;32m      7\u001b[0m \u001b[38;5;28mprint\u001b[39m(result)\n",
      "\u001b[0;31mTypeError\u001b[0m: fun1() missing 1 required positional argument: 'z'"
     ]
    }
   ],
   "source": [
    "#function with return and with arguments\n",
    "def fun1(x,y,z):\n",
    "    res=x+y\n",
    "    return res\n",
    "a,b=10,20\n",
    "result=fun1(a,b)\n",
    "print(result)\n",
    "\n",
    "    \n",
    "    \n",
    "    "
   ]
  },
  {
   "cell_type": "code",
   "execution_count": 14,
   "id": "72107a89",
   "metadata": {},
   "outputs": [
    {
     "ename": "TypeError",
     "evalue": "fun1() takes 2 positional arguments but 3 were given",
     "output_type": "error",
     "traceback": [
      "\u001b[0;31m---------------------------------------------------------------------------\u001b[0m",
      "\u001b[0;31mTypeError\u001b[0m                                 Traceback (most recent call last)",
      "Input \u001b[0;32mIn [14]\u001b[0m, in \u001b[0;36m<cell line: 6>\u001b[0;34m()\u001b[0m\n\u001b[1;32m      4\u001b[0m     \u001b[38;5;28;01mreturn\u001b[39;00m res\n\u001b[1;32m      5\u001b[0m a,b,c\u001b[38;5;241m=\u001b[39m\u001b[38;5;241m10\u001b[39m,\u001b[38;5;241m20\u001b[39m,\u001b[38;5;241m30\u001b[39m\n\u001b[0;32m----> 6\u001b[0m result\u001b[38;5;241m=\u001b[39m\u001b[43mfun1\u001b[49m\u001b[43m(\u001b[49m\u001b[43ma\u001b[49m\u001b[43m,\u001b[49m\u001b[43mb\u001b[49m\u001b[43m,\u001b[49m\u001b[43mc\u001b[49m\u001b[43m)\u001b[49m\n\u001b[1;32m      7\u001b[0m \u001b[38;5;28mprint\u001b[39m(result)\n",
      "\u001b[0;31mTypeError\u001b[0m: fun1() takes 2 positional arguments but 3 were given"
     ]
    }
   ],
   "source": [
    "#function with return and with arguments\n",
    "def fun1(x,y):\n",
    "    res=x+y\n",
    "    return res\n",
    "a,b,c=10,20,30\n",
    "result=fun1(a,b,c)\n",
    "print(result)\n",
    "\n",
    "    \n",
    "    \n",
    "    "
   ]
  },
  {
   "cell_type": "code",
   "execution_count": 19,
   "id": "07667832",
   "metadata": {},
   "outputs": [
    {
     "name": "stdout",
     "output_type": "stream",
     "text": [
      "Begin\n",
      "Welcome to functins....\n",
      "<function myfunc at 0x7fe55ed77b80>\n",
      "<function myfunc at 0x7fe55ed77b80>\n",
      "Welcome to functins....\n"
     ]
    }
   ],
   "source": [
    "#what is exactly function\n",
    "print(\"Begin\")\n",
    "def myfunc():\n",
    "    print(\"Welcome to functins....\")\n",
    "    \n",
    "myfunc()\n",
    "print(myfunc)\n",
    "myvar=myfunc\n",
    "print(myvar)\n",
    "myvar()"
   ]
  },
  {
   "cell_type": "code",
   "execution_count": 20,
   "id": "7cecb8a3",
   "metadata": {},
   "outputs": [
    {
     "name": "stdout",
     "output_type": "stream",
     "text": [
      "300\n"
     ]
    }
   ],
   "source": [
    "#assigning function to var\n",
    "def add(a,b):\n",
    "    c=a+b\n",
    "    return c\n",
    "result=add(100,200)\n",
    "print(result)"
   ]
  },
  {
   "cell_type": "code",
   "execution_count": 1,
   "id": "0246abd2",
   "metadata": {},
   "outputs": [
    {
     "name": "stdout",
     "output_type": "stream",
     "text": [
      "Hello How are you\n"
     ]
    }
   ],
   "source": [
    "#difining function inside the another function\n",
    "def display():\n",
    "    def msg():\n",
    "        return \"Hello\"\n",
    "    return msg()+\" How are you\"\n",
    "res=display()\n",
    "print(res)\n",
    "    "
   ]
  },
  {
   "cell_type": "code",
   "execution_count": 3,
   "id": "3f9f7cba",
   "metadata": {},
   "outputs": [
    {
     "name": "stdout",
     "output_type": "stream",
     "text": [
      "Hello How are you\n"
     ]
    }
   ],
   "source": [
    "#function as parameter to another function\n",
    "def display(x):\n",
    "    res=x()+\" How are you\"\n",
    "    return res\n",
    "\n",
    "def func():\n",
    "    return \"Hello\"\n",
    "\n",
    "result=display(func)\n",
    "print(result)"
   ]
  },
  {
   "cell_type": "code",
   "execution_count": 5,
   "id": "7584e487",
   "metadata": {},
   "outputs": [
    {
     "name": "stdout",
     "output_type": "stream",
     "text": [
      "Hello How are you\n"
     ]
    }
   ],
   "source": [
    "#function as parameter to another function\n",
    "def display(x):\n",
    "    res=x+\" How are you\"\n",
    "    return res\n",
    "\n",
    "def func():\n",
    "    return \"Hello\"\n",
    "\n",
    "result=display(func())\n",
    "print(result)"
   ]
  },
  {
   "cell_type": "code",
   "execution_count": 6,
   "id": "a5adb4fa",
   "metadata": {},
   "outputs": [
    {
     "name": "stdout",
     "output_type": "stream",
     "text": [
      "Hello How are you buddy\n"
     ]
    }
   ],
   "source": [
    "#function as return value to another function\n",
    "def display():\n",
    "    def msg():\n",
    "        return \"Hello How are you buddy\"\n",
    "    return msg()\n",
    "res=display()\n",
    "print(res)"
   ]
  },
  {
   "cell_type": "code",
   "execution_count": 7,
   "id": "a331c915",
   "metadata": {},
   "outputs": [],
   "source": [
    "#Argument in function - Assignment\n",
    "#Medium,github,other resources"
   ]
  },
  {
   "cell_type": "code",
   "execution_count": null,
   "id": "b161d00b",
   "metadata": {},
   "outputs": [],
   "source": []
  }
 ],
 "metadata": {
  "kernelspec": {
   "display_name": "Python 3 (ipykernel)",
   "language": "python",
   "name": "python3"
  },
  "language_info": {
   "codemirror_mode": {
    "name": "ipython",
    "version": 3
   },
   "file_extension": ".py",
   "mimetype": "text/x-python",
   "name": "python",
   "nbconvert_exporter": "python",
   "pygments_lexer": "ipython3",
   "version": "3.9.12"
  }
 },
 "nbformat": 4,
 "nbformat_minor": 5
}
