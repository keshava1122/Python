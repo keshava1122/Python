{
 "cells": [
  {
   "cell_type": "code",
   "execution_count": 3,
   "id": "91306973",
   "metadata": {},
   "outputs": [
    {
     "name": "stdout",
     "output_type": "stream",
     "text": [
      "Enter a number5\n",
      "25\n"
     ]
    }
   ],
   "source": [
    "#find the square of the given number?\n",
    "\n",
    "### without lambdas\n",
    "def sqrt(a):\n",
    "    res=a*a\n",
    "    return res\n",
    "n=int(input(\"Enter a number\"))\n",
    "result=sqrt(n)\n",
    "print(result)"
   ]
  },
  {
   "cell_type": "code",
   "execution_count": 4,
   "id": "4c9ee437",
   "metadata": {},
   "outputs": [
    {
     "name": "stdout",
     "output_type": "stream",
     "text": [
      "Enter a number2\n",
      "4\n"
     ]
    }
   ],
   "source": [
    "### With lambdas\n",
    "\n",
    "var=lambda x:x*x\n",
    "m=int(input(\"Enter a number\"))\n",
    "print(var(m))"
   ]
  },
  {
   "cell_type": "code",
   "execution_count": 6,
   "id": "9f394d5d",
   "metadata": {},
   "outputs": [
    {
     "name": "stdout",
     "output_type": "stream",
     "text": [
      "Enter number one10\n",
      "Enter number two20\n",
      "30\n"
     ]
    }
   ],
   "source": [
    "#addition of two number\n",
    "#with lambdas\n",
    "addition=lambda a,b:a+b\n",
    "a=int(input(\"Enter number one\"))\n",
    "b=int(input(\"Enter number two\"))\n",
    "print(addition(a,b))"
   ]
  },
  {
   "cell_type": "code",
   "execution_count": 8,
   "id": "321d19dc",
   "metadata": {},
   "outputs": [
    {
     "name": "stdout",
     "output_type": "stream",
     "text": [
      "Enter number one5\n",
      "odd\n"
     ]
    }
   ],
   "source": [
    "#Even or odd\n",
    "#with lambdas\n",
    "#if n%2==0:\n",
    "#else:\n",
    "var=lambda n:\"Even\" if n%2==0 else \"odd\"\n",
    "n=int(input(\"Enter number one\"))\n",
    "print(var(n))"
   ]
  },
  {
   "cell_type": "code",
   "execution_count": 9,
   "id": "85f71922",
   "metadata": {},
   "outputs": [
    {
     "ename": "SyntaxError",
     "evalue": "invalid syntax (3313029147.py, line 1)",
     "output_type": "error",
     "traceback": [
      "\u001b[0;36m  Input \u001b[0;32mIn [9]\u001b[0;36m\u001b[0m\n\u001b[0;31m    var=lambda n:if n%2==0 \"Even\" else \"odd\"\u001b[0m\n\u001b[0m                 ^\u001b[0m\n\u001b[0;31mSyntaxError\u001b[0m\u001b[0;31m:\u001b[0m invalid syntax\n"
     ]
    }
   ],
   "source": [
    "var=lambda n:if n%2==0 \"Even\" else \"odd\"\n",
    "n=int(input(\"Enter number one\"))\n",
    "print(var(n))"
   ]
  },
  {
   "cell_type": "code",
   "execution_count": 10,
   "id": "85238f60",
   "metadata": {},
   "outputs": [],
   "source": [
    "#Assignment-Explore\n",
    "#filter()\n",
    "#map()\n",
    "#reduce()"
   ]
  },
  {
   "cell_type": "code",
   "execution_count": null,
   "id": "8d751155",
   "metadata": {},
   "outputs": [],
   "source": []
  }
 ],
 "metadata": {
  "kernelspec": {
   "display_name": "Python 3 (ipykernel)",
   "language": "python",
   "name": "python3"
  },
  "language_info": {
   "codemirror_mode": {
    "name": "ipython",
    "version": 3
   },
   "file_extension": ".py",
   "mimetype": "text/x-python",
   "name": "python",
   "nbconvert_exporter": "python",
   "pygments_lexer": "ipython3",
   "version": "3.9.12"
  }
 },
 "nbformat": 4,
 "nbformat_minor": 5
}
