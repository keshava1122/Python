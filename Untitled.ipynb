{
 "cells": [
  {
   "cell_type": "markdown",
   "id": "1cdccb50",
   "metadata": {},
   "source": [
    "### if.elif.else"
   ]
  },
  {
   "cell_type": "code",
   "execution_count": 1,
   "id": "b70c5aac",
   "metadata": {},
   "outputs": [],
   "source": [
    "#if there ate multiple conditions we need to apply then go for if.elif.else stmts"
   ]
  },
  {
   "cell_type": "code",
   "execution_count": 2,
   "id": "c00c5cdb",
   "metadata": {},
   "outputs": [],
   "source": [
    "#1.find whether given number is positive or negative or zero?"
   ]
  },
  {
   "cell_type": "code",
   "execution_count": 6,
   "id": "3bca6dba",
   "metadata": {},
   "outputs": [
    {
     "name": "stdout",
     "output_type": "stream",
     "text": [
      "Enter a number0\n",
      "0 is zero\n"
     ]
    }
   ],
   "source": [
    "n=int(input(\"Enter a number\")) #n=0  #to give number in run time or execution time\n",
    "if n>0: #0>0 False\n",
    "    print(n,\"is a postive\")\n",
    "elif n<0:# 0<0 false\n",
    "    print(n,\"is a negative\")\n",
    "else:\n",
    "    print(n,\"is zero\")"
   ]
  },
  {
   "cell_type": "code",
   "execution_count": null,
   "id": "3babb4d6",
   "metadata": {},
   "outputs": [],
   "source": [
    "## Display given single digit in word format using if.elif.else\n",
    " #1-9\n",
    "    1 o/p- number is one\n",
    "    6 o/p -number is six"
   ]
  },
  {
   "cell_type": "code",
   "execution_count": null,
   "id": "6900694e",
   "metadata": {},
   "outputs": [],
   "source": []
  },
  {
   "cell_type": "markdown",
   "id": "10a06331",
   "metadata": {},
   "source": [
    "### While"
   ]
  },
  {
   "cell_type": "raw",
   "id": "10632b34",
   "metadata": {},
   "source": [
    "# a loop is a programming function that iterates statement or condtion based on specified boundaries"
   ]
  },
  {
   "cell_type": "code",
   "execution_count": 7,
   "id": "b7d613c0",
   "metadata": {},
   "outputs": [],
   "source": [
    "#print 1 to 5 values\n"
   ]
  },
  {
   "cell_type": "code",
   "execution_count": 11,
   "id": "66909b5a",
   "metadata": {},
   "outputs": [
    {
     "name": "stdout",
     "output_type": "stream",
     "text": [
      "Begin\n",
      "Welcome 0\n",
      "Welcome 1\n",
      "Welcome 2\n",
      "Welcome 3\n",
      "Welcome 4\n",
      "Welcome 5\n",
      "End\n"
     ]
    }
   ],
   "source": [
    "print(\"Begin\")\n",
    "i=0 #1,2,3,4,5,6\n",
    "while i<=5: # 6<=5 False\n",
    "    print(\"Welcome\",i) #2\n",
    "    i+=1 #i=i+1 i=2+1=3\n",
    "print(\"End\")\n",
    "    "
   ]
  },
  {
   "cell_type": "code",
   "execution_count": 12,
   "id": "c67e8edb",
   "metadata": {},
   "outputs": [],
   "source": [
    "#2.Display the range of given nymbers using while loop"
   ]
  },
  {
   "cell_type": "code",
   "execution_count": null,
   "id": "d876e77a",
   "metadata": {},
   "outputs": [],
   "source": [
    "1 1000 \n",
    "500 5000\n",
    "5l to 10l"
   ]
  },
  {
   "cell_type": "code",
   "execution_count": 13,
   "id": "1e91b112",
   "metadata": {},
   "outputs": [
    {
     "name": "stdout",
     "output_type": "stream",
     "text": [
      "Enter start number :10\n",
      "Enter end number :100\n",
      "10\n",
      "11\n",
      "12\n",
      "13\n",
      "14\n",
      "15\n",
      "16\n",
      "17\n",
      "18\n",
      "19\n",
      "20\n",
      "21\n",
      "22\n",
      "23\n",
      "24\n",
      "25\n",
      "26\n",
      "27\n",
      "28\n",
      "29\n",
      "30\n",
      "31\n",
      "32\n",
      "33\n",
      "34\n",
      "35\n",
      "36\n",
      "37\n",
      "38\n",
      "39\n",
      "40\n",
      "41\n",
      "42\n",
      "43\n",
      "44\n",
      "45\n",
      "46\n",
      "47\n",
      "48\n",
      "49\n",
      "50\n",
      "51\n",
      "52\n",
      "53\n",
      "54\n",
      "55\n",
      "56\n",
      "57\n",
      "58\n",
      "59\n",
      "60\n",
      "61\n",
      "62\n",
      "63\n",
      "64\n",
      "65\n",
      "66\n",
      "67\n",
      "68\n",
      "69\n",
      "70\n",
      "71\n",
      "72\n",
      "73\n",
      "74\n",
      "75\n",
      "76\n",
      "77\n",
      "78\n",
      "79\n",
      "80\n",
      "81\n",
      "82\n",
      "83\n",
      "84\n",
      "85\n",
      "86\n",
      "87\n",
      "88\n",
      "89\n",
      "90\n",
      "91\n",
      "92\n",
      "93\n",
      "94\n",
      "95\n",
      "96\n",
      "97\n",
      "98\n",
      "99\n",
      "100\n"
     ]
    }
   ],
   "source": [
    "m=int(input(\"Enter start number :\")) #10,11,12\n",
    "n=int(input(\"Enter end number :\")) #100\n",
    "while m<=n: #11<=100\n",
    "    print(m) #11\n",
    "    m+=1 #m=m+1 11+1 =12"
   ]
  },
  {
   "cell_type": "code",
   "execution_count": 14,
   "id": "d30d8164",
   "metadata": {},
   "outputs": [
    {
     "name": "stdout",
     "output_type": "stream",
     "text": [
      "Enter start number :10\n",
      "Enter end number :100\n",
      "10 11 12 13 14 15 16 17 18 19 20 21 22 23 24 25 26 27 28 29 30 31 32 33 34 35 36 37 38 39 40 41 42 43 44 45 46 47 48 49 50 51 52 53 54 55 56 57 58 59 60 61 62 63 64 65 66 67 68 69 70 71 72 73 74 75 76 77 78 79 80 81 82 83 84 85 86 87 88 89 90 91 92 93 94 95 96 97 98 99 100 "
     ]
    }
   ],
   "source": [
    "m=int(input(\"Enter start number :\")) #10,11,12\n",
    "n=int(input(\"Enter end number :\")) #100\n",
    "while m<=n: #11<=100\n",
    "    print(m,end=\" \") #11\n",
    "    m+=1 #m=m+1 11+1 =12"
   ]
  },
  {
   "cell_type": "code",
   "execution_count": null,
   "id": "56faf47a",
   "metadata": {},
   "outputs": [],
   "source": [
    "#display even number from the given range using while loop\n",
    "\n",
    "2 to 55\n"
   ]
  },
  {
   "cell_type": "markdown",
   "id": "32900257",
   "metadata": {},
   "source": [
    "### break"
   ]
  },
  {
   "cell_type": "code",
   "execution_count": 3,
   "id": "8687f42b",
   "metadata": {},
   "outputs": [
    {
     "name": "stdout",
     "output_type": "stream",
     "text": [
      "Welcome 0\n",
      "Welcome 1\n",
      "Welcome 2\n",
      "Welcome 3\n",
      "Welcome 4\n",
      "Welcome 5\n",
      "Welcome 6\n",
      "Welcome 7\n",
      "Welcome 8\n",
      "Welcome 9\n",
      "End\n"
     ]
    }
   ],
   "source": [
    "i=0\n",
    "while True:\n",
    "    print(\"Welcome\",i)#0,1,3,4\n",
    "    i+=1 #i=i+1 1+1=2\n",
    "    if i==10: #5==5 False\n",
    "        break\n",
    "print(\"End\")\n",
    "    "
   ]
  },
  {
   "cell_type": "markdown",
   "id": "4fc72dd0",
   "metadata": {},
   "source": [
    "### continue"
   ]
  },
  {
   "cell_type": "code",
   "execution_count": 9,
   "id": "eebfa939",
   "metadata": {},
   "outputs": [
    {
     "name": "stdout",
     "output_type": "stream",
     "text": [
      "Begin\n",
      "Welcome 1\n",
      "Welcome 2\n",
      "Welcome 4\n",
      "Welcome 5\n",
      "Welcome 6\n",
      "End\n"
     ]
    }
   ],
   "source": [
    "print(\"Begin\")\n",
    "i=0\n",
    "while i<=5:\n",
    "    i+=1\n",
    "    if i==3:\n",
    "        continue\n",
    "    print(\"Welcome\",i)\n",
    "print(\"End\")"
   ]
  },
  {
   "cell_type": "code",
   "execution_count": 11,
   "id": "a733fabf",
   "metadata": {},
   "outputs": [
    {
     "name": "stdout",
     "output_type": "stream",
     "text": [
      "Enter username: sai\n",
      "Enter username: rohith\n",
      "Enter passwordrohith@1841\n",
      "Access Granted\n"
     ]
    }
   ],
   "source": [
    "#useraname and password application\n",
    "\n",
    "while True:\n",
    "    un=input(\"Enter username: \")\n",
    "    if un!=\"rohith\": #True\n",
    "        continue\n",
    "    pw=input(\"Enter password\")\n",
    "    if pw==\"rohith@1841\":\n",
    "        break\n",
    "print(\"Access Granted\")\n",
    "        \n"
   ]
  },
  {
   "cell_type": "markdown",
   "id": "78c8010d",
   "metadata": {},
   "source": [
    "### pass"
   ]
  },
  {
   "cell_type": "raw",
   "id": "c462c3f5",
   "metadata": {},
   "source": [
    "pass statement does not do anything.It is used with control statements to represent no operation should perform."
   ]
  },
  {
   "cell_type": "code",
   "execution_count": 13,
   "id": "ccf597c6",
   "metadata": {},
   "outputs": [
    {
     "name": "stdout",
     "output_type": "stream",
     "text": [
      "-2\n",
      "-10\n",
      "-78\n",
      "-25\n"
     ]
    }
   ],
   "source": [
    "lst=[1,-2,3,6,-10,-78,45,93,-25] #print only negative bvalues\n",
    "for i in lst:\n",
    "    if i>0:\n",
    "        pass\n",
    "    else:\n",
    "        print(i)\n",
    "    "
   ]
  },
  {
   "cell_type": "markdown",
   "id": "d0f6a348",
   "metadata": {},
   "source": [
    "### return"
   ]
  },
  {
   "cell_type": "code",
   "execution_count": 21,
   "id": "1751065d",
   "metadata": {},
   "outputs": [
    {
     "name": "stdout",
     "output_type": "stream",
     "text": [
      "virat kohli\n",
      "Rohith sharma\n",
      "Bumrah\n",
      "pandya\n",
      "MS Dhoni\n"
     ]
    }
   ],
   "source": [
    "def fun():\n",
    "    print(\"virat kohli\")\n",
    "    print(\"Rohith sharma\")\n",
    "    print(\"Bumrah\")\n",
    "    print(\"pandya\")\n",
    "    return \"MS Dhoni\"\n",
    "    \n",
    "\n",
    "res=fun()    \n",
    "print(res)"
   ]
  },
  {
   "cell_type": "code",
   "execution_count": null,
   "id": "fba1a4be",
   "metadata": {},
   "outputs": [],
   "source": []
  },
  {
   "cell_type": "markdown",
   "id": "f74a06cd",
   "metadata": {},
   "source": [
    "### For"
   ]
  },
  {
   "cell_type": "code",
   "execution_count": 5,
   "id": "8028589d",
   "metadata": {},
   "outputs": [
    {
     "name": "stdout",
     "output_type": "stream",
     "text": [
      "p y t h o n "
     ]
    }
   ],
   "source": [
    "s=\"python\"\n",
    "for i in s: #i=p,y,t,h,o,n\n",
    "    print(i,end=\" \")  #p y t h o n"
   ]
  },
  {
   "cell_type": "code",
   "execution_count": 7,
   "id": "6335aa57",
   "metadata": {},
   "outputs": [
    {
     "name": "stdout",
     "output_type": "stream",
     "text": [
      "0\n",
      "1\n",
      "2\n",
      "3\n",
      "4\n",
      "5\n",
      "6\n",
      "7\n",
      "8\n",
      "9\n",
      "10\n"
     ]
    }
   ],
   "source": [
    "for i in range(0,11): #n+1\n",
    "    print(i)"
   ]
  },
  {
   "cell_type": "code",
   "execution_count": 8,
   "id": "3ccb18e1",
   "metadata": {},
   "outputs": [
    {
     "name": "stdout",
     "output_type": "stream",
     "text": [
      "1\n",
      "2\n",
      "3\n",
      "4\n",
      "5\n"
     ]
    }
   ],
   "source": [
    "a=[1,2,3,4,5]\n",
    "for sai in a:\n",
    "    print(sai)"
   ]
  },
  {
   "cell_type": "code",
   "execution_count": null,
   "id": "be88835b",
   "metadata": {},
   "outputs": [],
   "source": [
    "### cont"
   ]
  }
 ],
 "metadata": {
  "kernelspec": {
   "display_name": "Python 3 (ipykernel)",
   "language": "python",
   "name": "python3"
  },
  "language_info": {
   "codemirror_mode": {
    "name": "ipython",
    "version": 3
   },
   "file_extension": ".py",
   "mimetype": "text/x-python",
   "name": "python",
   "nbconvert_exporter": "python",
   "pygments_lexer": "ipython3",
   "version": "3.9.12"
  }
 },
 "nbformat": 4,
 "nbformat_minor": 5
}
