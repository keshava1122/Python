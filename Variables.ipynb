{
 "cells": [
  {
   "cell_type": "code",
   "execution_count": 7,
   "id": "61cae70a",
   "metadata": {},
   "outputs": [
    {
     "name": "stdout",
     "output_type": "stream",
     "text": [
      "1000\n",
      "2000\n",
      "3000\n",
      "-------------\n",
      "1000\n"
     ]
    }
   ],
   "source": [
    "#Local variables\n",
    "a=1000 #GV\n",
    "print(a)\n",
    "def f1():\n",
    "    b=2000 #LV\n",
    "    print(b)\n",
    "\n",
    "    \n",
    "def f2():\n",
    "    c=3000 #LV\n",
    "    print(c)\n",
    "    \n",
    "f1()\n",
    "f2()\n",
    "print(\"-------------\")\n",
    "print(a)\n"
   ]
  },
  {
   "cell_type": "code",
   "execution_count": 8,
   "id": "0e6ba85b",
   "metadata": {},
   "outputs": [
    {
     "name": "stdout",
     "output_type": "stream",
     "text": [
      "1000\n",
      "2000\n",
      "3000\n",
      "-------------\n",
      "1000\n"
     ]
    },
    {
     "ename": "NameError",
     "evalue": "name 'b' is not defined",
     "output_type": "error",
     "traceback": [
      "\u001b[0;31m---------------------------------------------------------------------------\u001b[0m",
      "\u001b[0;31mNameError\u001b[0m                                 Traceback (most recent call last)",
      "Input \u001b[0;32mIn [8]\u001b[0m, in \u001b[0;36m<cell line: 17>\u001b[0;34m()\u001b[0m\n\u001b[1;32m     15\u001b[0m \u001b[38;5;28mprint\u001b[39m(\u001b[38;5;124m\"\u001b[39m\u001b[38;5;124m-------------\u001b[39m\u001b[38;5;124m\"\u001b[39m)\n\u001b[1;32m     16\u001b[0m \u001b[38;5;28mprint\u001b[39m(a)\n\u001b[0;32m---> 17\u001b[0m \u001b[38;5;28mprint\u001b[39m(\u001b[43mb\u001b[49m)\n",
      "\u001b[0;31mNameError\u001b[0m: name 'b' is not defined"
     ]
    }
   ],
   "source": [
    "#Local variables\n",
    "a=1000 #GV\n",
    "print(a)\n",
    "def f1():\n",
    "    b=2000 #LV\n",
    "    print(b)\n",
    "\n",
    "    \n",
    "def f2():\n",
    "    c=3000 #LV\n",
    "    print(c)\n",
    "    \n",
    "f1()\n",
    "f2()\n",
    "print(\"-------------\")\n",
    "print(a)\n",
    "print(b)\n"
   ]
  },
  {
   "cell_type": "code",
   "execution_count": 9,
   "id": "6e4e782c",
   "metadata": {},
   "outputs": [
    {
     "name": "stdout",
     "output_type": "stream",
     "text": [
      "1000\n",
      "2000\n",
      "3000\n",
      "-------------\n",
      "1000\n"
     ]
    },
    {
     "ename": "NameError",
     "evalue": "name 'c' is not defined",
     "output_type": "error",
     "traceback": [
      "\u001b[0;31m---------------------------------------------------------------------------\u001b[0m",
      "\u001b[0;31mNameError\u001b[0m                                 Traceback (most recent call last)",
      "Input \u001b[0;32mIn [9]\u001b[0m, in \u001b[0;36m<cell line: 17>\u001b[0;34m()\u001b[0m\n\u001b[1;32m     15\u001b[0m \u001b[38;5;28mprint\u001b[39m(\u001b[38;5;124m\"\u001b[39m\u001b[38;5;124m-------------\u001b[39m\u001b[38;5;124m\"\u001b[39m)\n\u001b[1;32m     16\u001b[0m \u001b[38;5;28mprint\u001b[39m(a)\n\u001b[0;32m---> 17\u001b[0m \u001b[38;5;28mprint\u001b[39m(\u001b[43mc\u001b[49m)\n",
      "\u001b[0;31mNameError\u001b[0m: name 'c' is not defined"
     ]
    }
   ],
   "source": [
    "#Local variables\n",
    "a=1000 #GV\n",
    "print(a)\n",
    "def f1():\n",
    "    b=2000 #LV\n",
    "    print(b)\n",
    "\n",
    "    \n",
    "def f2():\n",
    "    c=3000 #LV\n",
    "    print(c)\n",
    "    \n",
    "f1()\n",
    "f2()\n",
    "print(\"-------------\")\n",
    "print(a)\n",
    "print(c)\n"
   ]
  },
  {
   "cell_type": "code",
   "execution_count": 14,
   "id": "1920825e",
   "metadata": {},
   "outputs": [
    {
     "name": "stdout",
     "output_type": "stream",
     "text": [
      "2000\n",
      "3000\n",
      "2000\n"
     ]
    }
   ],
   "source": [
    "#global var\n",
    "b=2000\n",
    "print(b)\n",
    "def f1():\n",
    "    b=3000\n",
    "    print(b)\n",
    "f1()\n",
    "print(b)\n"
   ]
  },
  {
   "cell_type": "code",
   "execution_count": 15,
   "id": "2dbfc2e8",
   "metadata": {},
   "outputs": [],
   "source": [
    "#In above  program we would able to access GV into function\n",
    "#To access GV into the function we should use \"global\" keyword"
   ]
  },
  {
   "cell_type": "code",
   "execution_count": 19,
   "id": "6cb5e7d9",
   "metadata": {},
   "outputs": [
    {
     "name": "stdout",
     "output_type": "stream",
     "text": [
      "2000\n",
      "3000\n",
      "3000\n"
     ]
    }
   ],
   "source": [
    "x=2000\n",
    "print(x)\n",
    "def f2():\n",
    "    global x\n",
    "    x=3000\n",
    "    print(x)\n",
    "f2()\n",
    "print(x)"
   ]
  },
  {
   "cell_type": "code",
   "execution_count": null,
   "id": "163fdd93",
   "metadata": {},
   "outputs": [],
   "source": []
  }
 ],
 "metadata": {
  "kernelspec": {
   "display_name": "Python 3 (ipykernel)",
   "language": "python",
   "name": "python3"
  },
  "language_info": {
   "codemirror_mode": {
    "name": "ipython",
    "version": 3
   },
   "file_extension": ".py",
   "mimetype": "text/x-python",
   "name": "python",
   "nbconvert_exporter": "python",
   "pygments_lexer": "ipython3",
   "version": "3.9.12"
  }
 },
 "nbformat": 4,
 "nbformat_minor": 5
}
